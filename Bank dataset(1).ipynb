This is a exploratory data analysis project on Bank Dataset. The data set is available from kaggle. Using python data is cleaned, analysied.  
